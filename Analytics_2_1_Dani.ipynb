{
  "nbformat": 4,
  "nbformat_minor": 0,
  "metadata": {
    "colab": {
      "name": "Analytics 2.1- Dani.ipynb",
      "provenance": [],
      "collapsed_sections": [],
      "machine_shape": "hm",
      "include_colab_link": true
    },
    "kernelspec": {
      "name": "python3",
      "display_name": "Python 3"
    }
  },
  "cells": [
    {
      "cell_type": "markdown",
      "metadata": {
        "id": "view-in-github",
        "colab_type": "text"
      },
      "source": [
        "<a href=\"https://colab.research.google.com/github/margaret-tk/APS360-AI/blob/master/Analytics_2_1_Dani.ipynb\" target=\"_parent\"><img src=\"https://colab.research.google.com/assets/colab-badge.svg\" alt=\"Open In Colab\"/></a>"
      ]
    },
    {
      "cell_type": "code",
      "metadata": {
        "id": "PnJJAm74f_3j",
        "colab_type": "code",
        "colab": {}
      },
      "source": [
        "import matplotlib\n",
        "import matplotlib.pyplot as plt\n",
        "import numpy as np\n",
        "import pandas as pd\n",
        "import seaborn as sns\n",
        "from sklearn.preprocessing import Imputer\n",
        "from sklearn.linear_model import LogisticRegression\n",
        "from sklearn.model_selection import train_test_split\n",
        "\n",
        "df = pd.read_csv('https://drive.google.com/uc?export=download&id=167Nqjl4Q9D-bw72qJBrAm8ZYL-ANIh2Q') \n",
        "weather = pd.read_csv('https://drive.google.com/uc?export=download&id=1F0JOQQH2tsJ72hZvtvg7Uvf_k3VyouDo')"
      ],
      "execution_count": 0,
      "outputs": []
    },
    {
      "cell_type": "code",
      "metadata": {
        "id": "iCSyTd2EgfpU",
        "colab_type": "code",
        "colab": {}
      },
      "source": [
        "df = df.replace('55c66225-fbe7-4fd5-9072-eab1ece5e23e', \"UberX\")\n",
        "df = df.replace('6c84fd89-3f11-4782-9b50-97c468b19529', \"UberBlack\")\n",
        "df = df.replace('6d318bcc-22a3-4af6-bddd-b409bfce1546', \"UberBlackSUV\")\n",
        "df = df.replace('997acbb5-e102-41e1-b155-9df7de0a73f2', \"UberPool\")\n",
        "df = df.replace('6f72dfc5-27f1-42e8-84db-ccc7a75f6969', \"UberXL\")\n",
        "df = df.replace('9a0e7b09-b92b-4c41-9779-2ad22b4d779d', \"UberWAV\")\n",
        "df = df.replace('8cf7e821-f0d3-49c6-8eba-e679c0ebcf6a', \"UberTaxi\")\n",
        "df = df.replace('Black', \"UberBlack\")\n",
        "df = df.replace('Black SUV', \"UberBlackSUV\")\n",
        "df = df.replace('Shared', \"LyftLine\")\n",
        "df = df.replace('Lux Black XL', \"LyftLuxBlackXL\")\n",
        "df = df.replace('Lyft XL', \"LyftXL\")\n",
        "df = df.replace('Lux Black', \"LyftLuxBlack\")\n",
        "df = df.replace('Lux', \"LyftLux\")\n",
        "\n",
        "\n",
        "weather['rain'] = weather['rain'].fillna(0)"
      ],
      "execution_count": 0,
      "outputs": []
    },
    {
      "cell_type": "markdown",
      "metadata": {
        "id": "LZGzFpbvcJR_",
        "colab_type": "text"
      },
      "source": [
        "# **Check for null prices in the dataset and remove them**"
      ]
    },
    {
      "cell_type": "code",
      "metadata": {
        "id": "2s0JznTIcIdC",
        "colab_type": "code",
        "colab": {}
      },
      "source": [
        "# All null prices prices are UberTaxi\n",
        "df[df['price'].isnull()].groupby('product_id').size()\n",
        "\n",
        "# All UberTaxi are null prices\n",
        "df[df['product_id'] == 'UberTaxi'].groupby('price').size()\n",
        "\n",
        "# Drop \"UberTaxi\"\n",
        "df = df[df['product_id'] != 'UberTaxi']"
      ],
      "execution_count": 0,
      "outputs": []
    },
    {
      "cell_type": "markdown",
      "metadata": {
        "id": "kX3TdpPUdtT5",
        "colab_type": "text"
      },
      "source": [
        "# **Dropping unnecesary columns**"
      ]
    },
    {
      "cell_type": "code",
      "metadata": {
        "id": "k6YeMY0DdZkK",
        "colab_type": "code",
        "colab": {}
      },
      "source": [
        "df = df.drop(columns=['product_id', 'id'])"
      ],
      "execution_count": 0,
      "outputs": []
    },
    {
      "cell_type": "code",
      "metadata": {
        "id": "_JkO_AArfaSy",
        "colab_type": "code",
        "colab": {}
      },
      "source": [
        "df = df[df['name'] != 'WAV']\n",
        "df = df[df['name'] != 'LyftLux']"
      ],
      "execution_count": 0,
      "outputs": []
    },
    {
      "cell_type": "markdown",
      "metadata": {
        "id": "cWadbTXDZi0x",
        "colab_type": "text"
      },
      "source": [
        "# **Labelling the data**"
      ]
    },
    {
      "cell_type": "code",
      "metadata": {
        "id": "xRe6ZVhfuU-2",
        "colab_type": "code",
        "colab": {}
      },
      "source": [
        "#df['cab_type'] = df['cab_type'].map({'Uber':1, 'Lyft':-1})\n",
        "#df.groupby('cab_type').size()"
      ],
      "execution_count": 0,
      "outputs": []
    },
    {
      "cell_type": "markdown",
      "metadata": {
        "id": "paijXVdAZ-19",
        "colab_type": "text"
      },
      "source": [
        "# **Mapping categories to standard names**"
      ]
    },
    {
      "cell_type": "code",
      "metadata": {
        "id": "MJOnEo2_wkDc",
        "colab_type": "code",
        "colab": {}
      },
      "source": [
        "df['category'] = df['name']\n",
        "df['category'] = df['category'].map({'LyftLine': 'Shared', 'LyftLuxBlack': 'Luxury', 'Lyft': 'Regular', 'LyftLuxBlackXL': 'LuxuryXL', 'LyftXL': 'XL',\n",
        "                                           'UberPool': 'Shared', 'UberBlack': 'Luxury', 'UberX': 'Regular', 'UberBlackSUV': 'LuxuryXL', 'UberXL': 'XL'})\n"
      ],
      "execution_count": 0,
      "outputs": []
    },
    {
      "cell_type": "code",
      "metadata": {
        "id": "PZV07ke8aMW1",
        "colab_type": "code",
        "colab": {}
      },
      "source": [
        "# drop surge multiplier since Uber only has a surge multiplier of 1\n",
        "df = df.drop(columns=['surge_multiplier'])"
      ],
      "execution_count": 0,
      "outputs": []
    },
    {
      "cell_type": "markdown",
      "metadata": {
        "id": "GZgSGmjWa7Rx",
        "colab_type": "text"
      },
      "source": [
        "# **Extracting date/time/day of the week from timestamp**"
      ]
    },
    {
      "cell_type": "code",
      "metadata": {
        "id": "oClJ_j56tN-p",
        "colab_type": "code",
        "colab": {}
      },
      "source": [
        "import datetime \n",
        "import time\n",
        "\n",
        "df['hour_of_day'] = df['time_stamp']\n",
        "df['date'] = df['time_stamp']\n",
        "df['day_of_week'] = df['time_stamp']\n",
        "\n",
        "\n",
        "df['hour_of_day'] = df['hour_of_day'].apply(lambda x: time.strftime('%H', time.localtime(x/1000)))\n",
        "df['date'] = df['date'].apply(lambda x: datetime.datetime.fromtimestamp(x/1000).date())\n",
        "df['day_of_week'] = df['day_of_week'].apply(lambda x: time.strftime('%A', time.localtime(x/1000)))"
      ],
      "execution_count": 0,
      "outputs": []
    },
    {
      "cell_type": "code",
      "metadata": {
        "id": "OCkfaNVV2wKH",
        "colab_type": "code",
        "colab": {}
      },
      "source": [
        "weather['hour_of_day'] = weather['time_stamp']\n",
        "weather['date'] = weather['time_stamp']\n",
        "weather['day_of_week'] = weather['time_stamp']\n",
        "\n",
        "\n",
        "weather['hour_of_day'] = weather['hour_of_day'].apply(lambda x: time.strftime('%H', time.localtime(x)))\n",
        "weather['date'] = weather['date'].apply(lambda x: datetime.datetime.fromtimestamp(x).date())\n",
        "weather['day_of_week'] = weather['day_of_week'].apply(lambda x: time.strftime('%A', time.localtime(x)))"
      ],
      "execution_count": 0,
      "outputs": []
    },
    {
      "cell_type": "code",
      "metadata": {
        "id": "gTSaWite67UJ",
        "colab_type": "code",
        "colab": {}
      },
      "source": [
        "def price_dist(p,d):\n",
        "  return p/d"
      ],
      "execution_count": 0,
      "outputs": []
    },
    {
      "cell_type": "markdown",
      "metadata": {
        "id": "IAMbty6ncK0n",
        "colab_type": "text"
      },
      "source": [
        "# **Cross-referencing weather at different times with times in the dataset (df)**"
      ]
    },
    {
      "cell_type": "code",
      "metadata": {
        "id": "SIZ9HZRhhLnZ",
        "colab_type": "code",
        "colab": {}
      },
      "source": [
        "# dropping duplicates\n",
        "df2 = pd.merge(df, weather, left_on=['date', 'hour_of_day', 'source'], right_on = ['date', 'hour_of_day', 'location'])\n",
        "df2 = df2.drop(columns=['location', 'name'])\n",
        "df2['hour_of_day'] = pd.to_numeric(df2['hour_of_day'])"
      ],
      "execution_count": 0,
      "outputs": []
    },
    {
      "cell_type": "code",
      "metadata": {
        "id": "7nAm9O9-mlKC",
        "colab_type": "code",
        "colab": {}
      },
      "source": [
        "lyft = df[df.cab_type == 'Lyft']\n",
        "lyft = lyft[['date', 'hour_of_day', 'source', 'destination', 'category', 'price','distance']]\n",
        "uber = df[df.cab_type == 'Uber']\n",
        "uber = uber[['date', 'hour_of_day', 'source', 'destination', 'category', 'price','distance']]\n",
        "lyft['price_per_dist_l'] = lyft.price/lyft.distance\n",
        "uber['price_per_dist_u'] = uber.price/uber.distance\n",
        "merged = pd.merge(uber, lyft, on=['date', 'hour_of_day', 'source', 'destination', 'category'])\n",
        "merged2 = pd.merge(merged, weather, left_on=['date', 'hour_of_day', 'source'], right_on = ['date', 'hour_of_day', 'location'])"
      ],
      "execution_count": 0,
      "outputs": []
    },
    {
      "cell_type": "code",
      "metadata": {
        "id": "XMxLHX2ErEEd",
        "colab_type": "code",
        "colab": {}
      },
      "source": [
        "#merged2['u_price_dist'] = merged.price_x/merged.distance_x"
      ],
      "execution_count": 0,
      "outputs": []
    },
    {
      "cell_type": "code",
      "metadata": {
        "id": "Gx2N-c4ICeKZ",
        "colab_type": "code",
        "outputId": "8604cca1-a8e5-404d-8fc0-708c86dde6a1",
        "colab": {
          "base_uri": "https://localhost:8080/",
          "height": 309
        }
      },
      "source": [
        "merged2.head()"
      ],
      "execution_count": 0,
      "outputs": [
        {
          "output_type": "execute_result",
          "data": {
            "text/html": [
              "<div>\n",
              "<style scoped>\n",
              "    .dataframe tbody tr th:only-of-type {\n",
              "        vertical-align: middle;\n",
              "    }\n",
              "\n",
              "    .dataframe tbody tr th {\n",
              "        vertical-align: top;\n",
              "    }\n",
              "\n",
              "    .dataframe thead th {\n",
              "        text-align: right;\n",
              "    }\n",
              "</style>\n",
              "<table border=\"1\" class=\"dataframe\">\n",
              "  <thead>\n",
              "    <tr style=\"text-align: right;\">\n",
              "      <th></th>\n",
              "      <th>date</th>\n",
              "      <th>hour_of_day</th>\n",
              "      <th>source</th>\n",
              "      <th>destination</th>\n",
              "      <th>category</th>\n",
              "      <th>price_x</th>\n",
              "      <th>distance_x</th>\n",
              "      <th>price_per_dist_u</th>\n",
              "      <th>price_y</th>\n",
              "      <th>distance_y</th>\n",
              "      <th>price_per_dist_l</th>\n",
              "      <th>temp</th>\n",
              "      <th>location</th>\n",
              "      <th>clouds</th>\n",
              "      <th>pressure</th>\n",
              "      <th>rain</th>\n",
              "      <th>time_stamp</th>\n",
              "      <th>humidity</th>\n",
              "      <th>wind</th>\n",
              "      <th>day_of_week</th>\n",
              "    </tr>\n",
              "  </thead>\n",
              "  <tbody>\n",
              "    <tr>\n",
              "      <th>0</th>\n",
              "      <td>2018-11-30</td>\n",
              "      <td>22</td>\n",
              "      <td>North End</td>\n",
              "      <td>West End</td>\n",
              "      <td>XL</td>\n",
              "      <td>12.0</td>\n",
              "      <td>1.11</td>\n",
              "      <td>10.810811</td>\n",
              "      <td>13.5</td>\n",
              "      <td>1.25</td>\n",
              "      <td>10.800000</td>\n",
              "      <td>38.65</td>\n",
              "      <td>North End</td>\n",
              "      <td>0.96</td>\n",
              "      <td>1017.23</td>\n",
              "      <td>0.0</td>\n",
              "      <td>1543618374</td>\n",
              "      <td>0.65</td>\n",
              "      <td>3.13</td>\n",
              "      <td>Friday</td>\n",
              "    </tr>\n",
              "    <tr>\n",
              "      <th>1</th>\n",
              "      <td>2018-11-30</td>\n",
              "      <td>22</td>\n",
              "      <td>North End</td>\n",
              "      <td>West End</td>\n",
              "      <td>XL</td>\n",
              "      <td>12.0</td>\n",
              "      <td>1.11</td>\n",
              "      <td>10.810811</td>\n",
              "      <td>13.5</td>\n",
              "      <td>1.26</td>\n",
              "      <td>10.714286</td>\n",
              "      <td>38.65</td>\n",
              "      <td>North End</td>\n",
              "      <td>0.96</td>\n",
              "      <td>1017.23</td>\n",
              "      <td>0.0</td>\n",
              "      <td>1543618374</td>\n",
              "      <td>0.65</td>\n",
              "      <td>3.13</td>\n",
              "      <td>Friday</td>\n",
              "    </tr>\n",
              "    <tr>\n",
              "      <th>2</th>\n",
              "      <td>2018-11-30</td>\n",
              "      <td>22</td>\n",
              "      <td>North End</td>\n",
              "      <td>West End</td>\n",
              "      <td>XL</td>\n",
              "      <td>12.0</td>\n",
              "      <td>1.11</td>\n",
              "      <td>10.810811</td>\n",
              "      <td>10.5</td>\n",
              "      <td>1.25</td>\n",
              "      <td>8.400000</td>\n",
              "      <td>38.65</td>\n",
              "      <td>North End</td>\n",
              "      <td>0.96</td>\n",
              "      <td>1017.23</td>\n",
              "      <td>0.0</td>\n",
              "      <td>1543618374</td>\n",
              "      <td>0.65</td>\n",
              "      <td>3.13</td>\n",
              "      <td>Friday</td>\n",
              "    </tr>\n",
              "    <tr>\n",
              "      <th>3</th>\n",
              "      <td>2018-11-30</td>\n",
              "      <td>22</td>\n",
              "      <td>North End</td>\n",
              "      <td>West End</td>\n",
              "      <td>XL</td>\n",
              "      <td>13.0</td>\n",
              "      <td>1.11</td>\n",
              "      <td>11.711712</td>\n",
              "      <td>13.5</td>\n",
              "      <td>1.25</td>\n",
              "      <td>10.800000</td>\n",
              "      <td>38.65</td>\n",
              "      <td>North End</td>\n",
              "      <td>0.96</td>\n",
              "      <td>1017.23</td>\n",
              "      <td>0.0</td>\n",
              "      <td>1543618374</td>\n",
              "      <td>0.65</td>\n",
              "      <td>3.13</td>\n",
              "      <td>Friday</td>\n",
              "    </tr>\n",
              "    <tr>\n",
              "      <th>4</th>\n",
              "      <td>2018-11-30</td>\n",
              "      <td>22</td>\n",
              "      <td>North End</td>\n",
              "      <td>West End</td>\n",
              "      <td>XL</td>\n",
              "      <td>13.0</td>\n",
              "      <td>1.11</td>\n",
              "      <td>11.711712</td>\n",
              "      <td>13.5</td>\n",
              "      <td>1.26</td>\n",
              "      <td>10.714286</td>\n",
              "      <td>38.65</td>\n",
              "      <td>North End</td>\n",
              "      <td>0.96</td>\n",
              "      <td>1017.23</td>\n",
              "      <td>0.0</td>\n",
              "      <td>1543618374</td>\n",
              "      <td>0.65</td>\n",
              "      <td>3.13</td>\n",
              "      <td>Friday</td>\n",
              "    </tr>\n",
              "  </tbody>\n",
              "</table>\n",
              "</div>"
            ],
            "text/plain": [
              "         date hour_of_day     source  ... humidity  wind  day_of_week\n",
              "0  2018-11-30          22  North End  ...     0.65  3.13       Friday\n",
              "1  2018-11-30          22  North End  ...     0.65  3.13       Friday\n",
              "2  2018-11-30          22  North End  ...     0.65  3.13       Friday\n",
              "3  2018-11-30          22  North End  ...     0.65  3.13       Friday\n",
              "4  2018-11-30          22  North End  ...     0.65  3.13       Friday\n",
              "\n",
              "[5 rows x 20 columns]"
            ]
          },
          "metadata": {
            "tags": []
          },
          "execution_count": 15
        }
      ]
    },
    {
      "cell_type": "code",
      "metadata": {
        "id": "nQAWoswWrpo6",
        "colab_type": "code",
        "colab": {}
      },
      "source": [
        "# deleting date for now (also day of week)"
      ],
      "execution_count": 0,
      "outputs": []
    },
    {
      "cell_type": "code",
      "metadata": {
        "id": "KzNm_5Ebr7dr",
        "colab_type": "code",
        "colab": {}
      },
      "source": [
        "merged2 = merged2.drop(columns=['distance_x','distance_y','price_x','price_y','location','date','day_of_week','time_stamp'])"
      ],
      "execution_count": 0,
      "outputs": []
    },
    {
      "cell_type": "code",
      "metadata": {
        "id": "GJHaoxyxuwDn",
        "colab_type": "code",
        "colab": {}
      },
      "source": [
        "binary = pd.get_dummies(merged2, columns=['source','destination', 'category'])"
      ],
      "execution_count": 0,
      "outputs": []
    },
    {
      "cell_type": "code",
      "metadata": {
        "id": "cHQd2jE4v3DN",
        "colab_type": "code",
        "colab": {}
      },
      "source": [
        "binary.loc[binary['price_per_dist_u'] < binary['price_per_dist_l'], 'lowest_cost'] = 1 \n",
        "binary.loc[binary['price_per_dist_u'] > binary['price_per_dist_l'], 'lowest_cost'] = 0 \n",
        "binary.loc[binary['price_per_dist_u'] == binary['price_per_dist_l'], 'lowest_cost'] = -1 "
      ],
      "execution_count": 0,
      "outputs": []
    },
    {
      "cell_type": "code",
      "metadata": {
        "id": "z_JAA5-S5KHj",
        "colab_type": "code",
        "outputId": "c96181c1-fb23-4b91-efe5-e515e8e7ee3e",
        "colab": {
          "base_uri": "https://localhost:8080/",
          "height": 241
        }
      },
      "source": [
        "binary.head()"
      ],
      "execution_count": 0,
      "outputs": [
        {
          "output_type": "execute_result",
          "data": {
            "text/html": [
              "<div>\n",
              "<style scoped>\n",
              "    .dataframe tbody tr th:only-of-type {\n",
              "        vertical-align: middle;\n",
              "    }\n",
              "\n",
              "    .dataframe tbody tr th {\n",
              "        vertical-align: top;\n",
              "    }\n",
              "\n",
              "    .dataframe thead th {\n",
              "        text-align: right;\n",
              "    }\n",
              "</style>\n",
              "<table border=\"1\" class=\"dataframe\">\n",
              "  <thead>\n",
              "    <tr style=\"text-align: right;\">\n",
              "      <th></th>\n",
              "      <th>hour_of_day</th>\n",
              "      <th>price_per_dist_u</th>\n",
              "      <th>price_per_dist_l</th>\n",
              "      <th>temp</th>\n",
              "      <th>clouds</th>\n",
              "      <th>pressure</th>\n",
              "      <th>rain</th>\n",
              "      <th>humidity</th>\n",
              "      <th>wind</th>\n",
              "      <th>source_Back Bay</th>\n",
              "      <th>source_Beacon Hill</th>\n",
              "      <th>source_Boston University</th>\n",
              "      <th>source_Fenway</th>\n",
              "      <th>source_Financial District</th>\n",
              "      <th>source_Haymarket Square</th>\n",
              "      <th>source_North End</th>\n",
              "      <th>source_North Station</th>\n",
              "      <th>source_Northeastern University</th>\n",
              "      <th>source_South Station</th>\n",
              "      <th>source_Theatre District</th>\n",
              "      <th>source_West End</th>\n",
              "      <th>destination_Back Bay</th>\n",
              "      <th>destination_Beacon Hill</th>\n",
              "      <th>destination_Boston University</th>\n",
              "      <th>destination_Fenway</th>\n",
              "      <th>destination_Financial District</th>\n",
              "      <th>destination_Haymarket Square</th>\n",
              "      <th>destination_North End</th>\n",
              "      <th>destination_North Station</th>\n",
              "      <th>destination_Northeastern University</th>\n",
              "      <th>destination_South Station</th>\n",
              "      <th>destination_Theatre District</th>\n",
              "      <th>destination_West End</th>\n",
              "      <th>category_Luxury</th>\n",
              "      <th>category_LuxuryXL</th>\n",
              "      <th>category_Regular</th>\n",
              "      <th>category_Shared</th>\n",
              "      <th>category_XL</th>\n",
              "      <th>lowest_cost</th>\n",
              "    </tr>\n",
              "  </thead>\n",
              "  <tbody>\n",
              "    <tr>\n",
              "      <th>0</th>\n",
              "      <td>22</td>\n",
              "      <td>10.810811</td>\n",
              "      <td>10.800000</td>\n",
              "      <td>38.65</td>\n",
              "      <td>0.96</td>\n",
              "      <td>1017.23</td>\n",
              "      <td>0.0</td>\n",
              "      <td>0.65</td>\n",
              "      <td>3.13</td>\n",
              "      <td>0</td>\n",
              "      <td>0</td>\n",
              "      <td>0</td>\n",
              "      <td>0</td>\n",
              "      <td>0</td>\n",
              "      <td>0</td>\n",
              "      <td>1</td>\n",
              "      <td>0</td>\n",
              "      <td>0</td>\n",
              "      <td>0</td>\n",
              "      <td>0</td>\n",
              "      <td>0</td>\n",
              "      <td>0</td>\n",
              "      <td>0</td>\n",
              "      <td>0</td>\n",
              "      <td>0</td>\n",
              "      <td>0</td>\n",
              "      <td>0</td>\n",
              "      <td>0</td>\n",
              "      <td>0</td>\n",
              "      <td>0</td>\n",
              "      <td>0</td>\n",
              "      <td>0</td>\n",
              "      <td>1</td>\n",
              "      <td>0</td>\n",
              "      <td>0</td>\n",
              "      <td>0</td>\n",
              "      <td>0</td>\n",
              "      <td>1</td>\n",
              "      <td>0.0</td>\n",
              "    </tr>\n",
              "    <tr>\n",
              "      <th>1</th>\n",
              "      <td>22</td>\n",
              "      <td>10.810811</td>\n",
              "      <td>10.714286</td>\n",
              "      <td>38.65</td>\n",
              "      <td>0.96</td>\n",
              "      <td>1017.23</td>\n",
              "      <td>0.0</td>\n",
              "      <td>0.65</td>\n",
              "      <td>3.13</td>\n",
              "      <td>0</td>\n",
              "      <td>0</td>\n",
              "      <td>0</td>\n",
              "      <td>0</td>\n",
              "      <td>0</td>\n",
              "      <td>0</td>\n",
              "      <td>1</td>\n",
              "      <td>0</td>\n",
              "      <td>0</td>\n",
              "      <td>0</td>\n",
              "      <td>0</td>\n",
              "      <td>0</td>\n",
              "      <td>0</td>\n",
              "      <td>0</td>\n",
              "      <td>0</td>\n",
              "      <td>0</td>\n",
              "      <td>0</td>\n",
              "      <td>0</td>\n",
              "      <td>0</td>\n",
              "      <td>0</td>\n",
              "      <td>0</td>\n",
              "      <td>0</td>\n",
              "      <td>0</td>\n",
              "      <td>1</td>\n",
              "      <td>0</td>\n",
              "      <td>0</td>\n",
              "      <td>0</td>\n",
              "      <td>0</td>\n",
              "      <td>1</td>\n",
              "      <td>0.0</td>\n",
              "    </tr>\n",
              "    <tr>\n",
              "      <th>2</th>\n",
              "      <td>22</td>\n",
              "      <td>10.810811</td>\n",
              "      <td>8.400000</td>\n",
              "      <td>38.65</td>\n",
              "      <td>0.96</td>\n",
              "      <td>1017.23</td>\n",
              "      <td>0.0</td>\n",
              "      <td>0.65</td>\n",
              "      <td>3.13</td>\n",
              "      <td>0</td>\n",
              "      <td>0</td>\n",
              "      <td>0</td>\n",
              "      <td>0</td>\n",
              "      <td>0</td>\n",
              "      <td>0</td>\n",
              "      <td>1</td>\n",
              "      <td>0</td>\n",
              "      <td>0</td>\n",
              "      <td>0</td>\n",
              "      <td>0</td>\n",
              "      <td>0</td>\n",
              "      <td>0</td>\n",
              "      <td>0</td>\n",
              "      <td>0</td>\n",
              "      <td>0</td>\n",
              "      <td>0</td>\n",
              "      <td>0</td>\n",
              "      <td>0</td>\n",
              "      <td>0</td>\n",
              "      <td>0</td>\n",
              "      <td>0</td>\n",
              "      <td>0</td>\n",
              "      <td>1</td>\n",
              "      <td>0</td>\n",
              "      <td>0</td>\n",
              "      <td>0</td>\n",
              "      <td>0</td>\n",
              "      <td>1</td>\n",
              "      <td>0.0</td>\n",
              "    </tr>\n",
              "    <tr>\n",
              "      <th>3</th>\n",
              "      <td>22</td>\n",
              "      <td>11.711712</td>\n",
              "      <td>10.800000</td>\n",
              "      <td>38.65</td>\n",
              "      <td>0.96</td>\n",
              "      <td>1017.23</td>\n",
              "      <td>0.0</td>\n",
              "      <td>0.65</td>\n",
              "      <td>3.13</td>\n",
              "      <td>0</td>\n",
              "      <td>0</td>\n",
              "      <td>0</td>\n",
              "      <td>0</td>\n",
              "      <td>0</td>\n",
              "      <td>0</td>\n",
              "      <td>1</td>\n",
              "      <td>0</td>\n",
              "      <td>0</td>\n",
              "      <td>0</td>\n",
              "      <td>0</td>\n",
              "      <td>0</td>\n",
              "      <td>0</td>\n",
              "      <td>0</td>\n",
              "      <td>0</td>\n",
              "      <td>0</td>\n",
              "      <td>0</td>\n",
              "      <td>0</td>\n",
              "      <td>0</td>\n",
              "      <td>0</td>\n",
              "      <td>0</td>\n",
              "      <td>0</td>\n",
              "      <td>0</td>\n",
              "      <td>1</td>\n",
              "      <td>0</td>\n",
              "      <td>0</td>\n",
              "      <td>0</td>\n",
              "      <td>0</td>\n",
              "      <td>1</td>\n",
              "      <td>0.0</td>\n",
              "    </tr>\n",
              "    <tr>\n",
              "      <th>4</th>\n",
              "      <td>22</td>\n",
              "      <td>11.711712</td>\n",
              "      <td>10.714286</td>\n",
              "      <td>38.65</td>\n",
              "      <td>0.96</td>\n",
              "      <td>1017.23</td>\n",
              "      <td>0.0</td>\n",
              "      <td>0.65</td>\n",
              "      <td>3.13</td>\n",
              "      <td>0</td>\n",
              "      <td>0</td>\n",
              "      <td>0</td>\n",
              "      <td>0</td>\n",
              "      <td>0</td>\n",
              "      <td>0</td>\n",
              "      <td>1</td>\n",
              "      <td>0</td>\n",
              "      <td>0</td>\n",
              "      <td>0</td>\n",
              "      <td>0</td>\n",
              "      <td>0</td>\n",
              "      <td>0</td>\n",
              "      <td>0</td>\n",
              "      <td>0</td>\n",
              "      <td>0</td>\n",
              "      <td>0</td>\n",
              "      <td>0</td>\n",
              "      <td>0</td>\n",
              "      <td>0</td>\n",
              "      <td>0</td>\n",
              "      <td>0</td>\n",
              "      <td>0</td>\n",
              "      <td>1</td>\n",
              "      <td>0</td>\n",
              "      <td>0</td>\n",
              "      <td>0</td>\n",
              "      <td>0</td>\n",
              "      <td>1</td>\n",
              "      <td>0.0</td>\n",
              "    </tr>\n",
              "  </tbody>\n",
              "</table>\n",
              "</div>"
            ],
            "text/plain": [
              "  hour_of_day  price_per_dist_u  ...  category_XL  lowest_cost\n",
              "0          22         10.810811  ...            1          0.0\n",
              "1          22         10.810811  ...            1          0.0\n",
              "2          22         10.810811  ...            1          0.0\n",
              "3          22         11.711712  ...            1          0.0\n",
              "4          22         11.711712  ...            1          0.0\n",
              "\n",
              "[5 rows x 39 columns]"
            ]
          },
          "metadata": {
            "tags": []
          },
          "execution_count": 20
        }
      ]
    },
    {
      "cell_type": "code",
      "metadata": {
        "id": "2JDClG1Nydoj",
        "colab_type": "code",
        "colab": {}
      },
      "source": [
        "#binary = binary.drop(columns=['price_per_dist_x','price_per_dist_y'])"
      ],
      "execution_count": 0,
      "outputs": []
    },
    {
      "cell_type": "code",
      "metadata": {
        "id": "Y7k9648KvpOQ",
        "colab_type": "code",
        "outputId": "a83a03fd-fd46-427a-a26d-c4d4022de608",
        "colab": {
          "base_uri": "https://localhost:8080/",
          "height": 102
        }
      },
      "source": [
        "#  0: Lyft is Cheaper\n",
        "#  1: Uber is Cheaper\n",
        "# -1: Same price\n",
        "\n",
        "binary.groupby('lowest_cost').size()"
      ],
      "execution_count": 0,
      "outputs": [
        {
          "output_type": "execute_result",
          "data": {
            "text/plain": [
              "lowest_cost\n",
              "-1.0      4174\n",
              " 0.0    918503\n",
              " 1.0    680800\n",
              "dtype: int64"
            ]
          },
          "metadata": {
            "tags": []
          },
          "execution_count": 22
        }
      ]
    },
    {
      "cell_type": "code",
      "metadata": {
        "id": "G1lKsW0q5lNk",
        "colab_type": "code",
        "outputId": "945bf607-b887-436e-d431-836119d93abe",
        "colab": {
          "base_uri": "https://localhost:8080/",
          "height": 34
        }
      },
      "source": [
        "binary.shape"
      ],
      "execution_count": 0,
      "outputs": [
        {
          "output_type": "execute_result",
          "data": {
            "text/plain": [
              "(1603477, 39)"
            ]
          },
          "metadata": {
            "tags": []
          },
          "execution_count": 23
        }
      ]
    },
    {
      "cell_type": "code",
      "metadata": {
        "id": "HPWP7aB9yTPC",
        "colab_type": "code",
        "outputId": "77aa193e-3c72-4e59-ed1e-759fe881f08a",
        "colab": {
          "base_uri": "https://localhost:8080/",
          "height": 697
        }
      },
      "source": [
        "#binary.groupby('date').size()\n",
        "binary.head()\n",
        "binary.isna().sum()\n"
      ],
      "execution_count": 0,
      "outputs": [
        {
          "output_type": "execute_result",
          "data": {
            "text/plain": [
              "hour_of_day                            0\n",
              "price_per_dist_u                       0\n",
              "price_per_dist_l                       0\n",
              "temp                                   0\n",
              "clouds                                 0\n",
              "pressure                               0\n",
              "rain                                   0\n",
              "humidity                               0\n",
              "wind                                   0\n",
              "source_Back Bay                        0\n",
              "source_Beacon Hill                     0\n",
              "source_Boston University               0\n",
              "source_Fenway                          0\n",
              "source_Financial District              0\n",
              "source_Haymarket Square                0\n",
              "source_North End                       0\n",
              "source_North Station                   0\n",
              "source_Northeastern University         0\n",
              "source_South Station                   0\n",
              "source_Theatre District                0\n",
              "source_West End                        0\n",
              "destination_Back Bay                   0\n",
              "destination_Beacon Hill                0\n",
              "destination_Boston University          0\n",
              "destination_Fenway                     0\n",
              "destination_Financial District         0\n",
              "destination_Haymarket Square           0\n",
              "destination_North End                  0\n",
              "destination_North Station              0\n",
              "destination_Northeastern University    0\n",
              "destination_South Station              0\n",
              "destination_Theatre District           0\n",
              "destination_West End                   0\n",
              "category_Luxury                        0\n",
              "category_LuxuryXL                      0\n",
              "category_Regular                       0\n",
              "category_Shared                        0\n",
              "category_XL                            0\n",
              "lowest_cost                            0\n",
              "dtype: int64"
            ]
          },
          "metadata": {
            "tags": []
          },
          "execution_count": 24
        }
      ]
    },
    {
      "cell_type": "code",
      "metadata": {
        "id": "9togF9EFEv9e",
        "colab_type": "code",
        "colab": {}
      },
      "source": [
        ""
      ],
      "execution_count": 0,
      "outputs": []
    },
    {
      "cell_type": "code",
      "metadata": {
        "id": "sPrFMoFl24pX",
        "colab_type": "code",
        "outputId": "830901e5-fd88-4af9-9da8-f861582ce159",
        "colab": {
          "base_uri": "https://localhost:8080/",
          "height": 34
        }
      },
      "source": [
        "binary.shape"
      ],
      "execution_count": 0,
      "outputs": [
        {
          "output_type": "execute_result",
          "data": {
            "text/plain": [
              "(1603477, 39)"
            ]
          },
          "metadata": {
            "tags": []
          },
          "execution_count": 25
        }
      ]
    },
    {
      "cell_type": "markdown",
      "metadata": {
        "id": "ov7HTc9Kxj-l",
        "colab_type": "text"
      },
      "source": [
        "# CART\n"
      ]
    },
    {
      "cell_type": "code",
      "metadata": {
        "id": "s-1_aLquyP-s",
        "colab_type": "code",
        "colab": {}
      },
      "source": [
        "cart = binary.copy()\n",
        "cart = cart.drop(columns=['price_per_dist_u', 'price_per_dist_l'])"
      ],
      "execution_count": 0,
      "outputs": []
    },
    {
      "cell_type": "code",
      "metadata": {
        "id": "UQYIVg8TEr5W",
        "colab_type": "code",
        "colab": {}
      },
      "source": [
        "x = cart.drop(['lowest_cost'], axis=1)\n",
        "y = cart['lowest_cost']\n",
        "x_train, x_test, y_train, y_test = train_test_split(x, y, test_size=0.33, random_state=3)"
      ],
      "execution_count": 0,
      "outputs": []
    },
    {
      "cell_type": "code",
      "metadata": {
        "id": "0Ur0-Ca8y9ll",
        "colab_type": "code",
        "outputId": "8cad31a8-9747-4e38-84fb-c47b57d9135a",
        "colab": {
          "base_uri": "https://localhost:8080/",
          "height": 34
        }
      },
      "source": [
        "from sklearn.tree import DecisionTreeClassifier\n",
        "from sklearn.tree import export_graphviz\n",
        "from subprocess import call\n",
        "from IPython.display import SVG\n",
        "from graphviz import Source\n",
        "\n",
        "# Train the CART model\n",
        "cart_model = DecisionTreeClassifier(random_state=3,max_depth=50)\n",
        "cart_model.fit(x_train, y_train)\n",
        "train_score = cart_model.score(x_train, y_train)\n",
        "test_score = cart_model.score(x_test, y_test)\n",
        "\n",
        "# Print out summary of model performance \n",
        "print('The score of this model over training data is {:.3f} and {:.3f} over the testing data'.format(train_score, test_score))\n",
        "\n",
        "# Visualize the decision tree\n",
        "# cart_graph = Source(export_graphviz(cart_model,\n",
        "#                    feature_names = cart.columns[1:],\n",
        "#                    rounded = True, proportion = False, \n",
        "#                   filled = True))\n",
        "# SVG(cart_graph.pipe(format='svg'))"
      ],
      "execution_count": 0,
      "outputs": [
        {
          "output_type": "stream",
          "text": [
            "The score of this model over training data is 0.800 and 0.753 over the testing data\n"
          ],
          "name": "stdout"
        }
      ]
    },
    {
      "cell_type": "markdown",
      "metadata": {
        "id": "QwTWsZiwKtvA",
        "colab_type": "text"
      },
      "source": [
        "## Logistic Regression"
      ]
    },
    {
      "cell_type": "code",
      "metadata": {
        "id": "ZWSm-l_aKyvO",
        "colab_type": "code",
        "outputId": "c357d1ed-bd3c-4f50-819d-271d75cb2eee",
        "colab": {
          "base_uri": "https://localhost:8080/",
          "height": 122
        }
      },
      "source": [
        "logreg = LogisticRegression()\n",
        "logreg.fit(x_train, y_train)\n",
        "\n",
        "# Predict the number of wins\n",
        "logreg.predict(x_test)"
      ],
      "execution_count": 0,
      "outputs": [
        {
          "output_type": "stream",
          "text": [
            "/usr/local/lib/python3.6/dist-packages/sklearn/linear_model/logistic.py:432: FutureWarning: Default solver will be changed to 'lbfgs' in 0.22. Specify a solver to silence this warning.\n",
            "  FutureWarning)\n",
            "/usr/local/lib/python3.6/dist-packages/sklearn/linear_model/logistic.py:469: FutureWarning: Default multi_class will be changed to 'auto' in 0.22. Specify the multi_class option to silence this warning.\n",
            "  \"this warning.\", FutureWarning)\n"
          ],
          "name": "stderr"
        },
        {
          "output_type": "execute_result",
          "data": {
            "text/plain": [
              "array([0., 0., 0., ..., 0., 1., 0.])"
            ]
          },
          "metadata": {
            "tags": []
          },
          "execution_count": 29
        }
      ]
    },
    {
      "cell_type": "code",
      "metadata": {
        "id": "MPYNpyTSLqMx",
        "colab_type": "code",
        "outputId": "a1c28c89-8f3f-413a-ea11-03e8743f57f0",
        "colab": {
          "base_uri": "https://localhost:8080/",
          "height": 34
        }
      },
      "source": [
        "train_score = logreg.score(x_train, y_train)\n",
        "test_score = logreg.score(x_test, y_test)\n",
        "\n",
        "print('The train score is {} and the test score is {}'.format(train_score, test_score))"
      ],
      "execution_count": 0,
      "outputs": [
        {
          "output_type": "stream",
          "text": [
            "The train score is 0.6989851339766496 and the test score is 0.6998004339050701\n"
          ],
          "name": "stdout"
        }
      ]
    },
    {
      "cell_type": "code",
      "metadata": {
        "id": "FiN_fAYUSzvD",
        "colab_type": "code",
        "outputId": "2d1f0cdf-1b98-4125-8317-278770e1a848",
        "colab": {
          "base_uri": "https://localhost:8080/",
          "height": 663
        }
      },
      "source": [
        "betas = pd.Series(logreg.coef_[0], index=x_train.columns)\n",
        "betas = betas.append(pd.Series({\"Intercept\": logreg.intercept_[0]}))\n",
        "print(betas)"
      ],
      "execution_count": 0,
      "outputs": [
        {
          "output_type": "stream",
          "text": [
            "hour_of_day                            0.003166\n",
            "temp                                  -0.001920\n",
            "clouds                                 0.002724\n",
            "pressure                              -0.006323\n",
            "rain                                  -0.004492\n",
            "humidity                              -0.023164\n",
            "wind                                  -0.015233\n",
            "source_Back Bay                       -0.304721\n",
            "source_Beacon Hill                     0.188479\n",
            "source_Boston University               0.419454\n",
            "source_Fenway                         -0.752772\n",
            "source_Financial District              0.544940\n",
            "source_Haymarket Square                0.709019\n",
            "source_North End                      -0.520558\n",
            "source_North Station                   0.422972\n",
            "source_Northeastern University        -0.405135\n",
            "source_South Station                   0.274679\n",
            "source_Theatre District               -0.074984\n",
            "source_West End                       -0.510489\n",
            "destination_Back Bay                  -0.605207\n",
            "destination_Beacon Hill               -0.636292\n",
            "destination_Boston University         -0.823326\n",
            "destination_Fenway                    -0.703710\n",
            "destination_Financial District         1.106681\n",
            "destination_Haymarket Square           0.664209\n",
            "destination_North End                  0.340051\n",
            "destination_North Station             -0.145509\n",
            "destination_Northeastern University   -0.094962\n",
            "destination_South Station              0.883935\n",
            "destination_Theatre District          -0.433630\n",
            "destination_West End                   0.438643\n",
            "category_Luxury                       -0.539310\n",
            "category_LuxuryXL                      0.612028\n",
            "category_Regular                       0.970699\n",
            "category_Shared                       -1.056523\n",
            "category_XL                            0.003991\n",
            "Intercept                             -0.009116\n",
            "dtype: float64\n"
          ],
          "name": "stdout"
        }
      ]
    },
    {
      "cell_type": "markdown",
      "metadata": {
        "id": "00CCKJ17TUE6",
        "colab_type": "text"
      },
      "source": [
        "# Cross Validation"
      ]
    },
    {
      "cell_type": "code",
      "metadata": {
        "id": "pNyZsz5ATXcC",
        "colab_type": "code",
        "outputId": "6ec9e952-75a2-45bc-9e38-fc236d4ae51d",
        "colab": {
          "base_uri": "https://localhost:8080/",
          "height": 462
        }
      },
      "source": [
        "from sklearn.linear_model import LogisticRegressionCV\n",
        "# Write your code here.\n",
        "\n",
        "# -------------------\n",
        "\n",
        "# Fit the model\n",
        "logregcv = LogisticRegressionCV(penalty='l1', solver='saga')\n",
        "logregcv.fit(x_train, y_train)\n",
        "\n",
        "# Partition the testing data into features and target\n",
        "\n",
        "# calculate the score\n",
        "train_score = logregcv.score(x_train, y_train)\n",
        "test_score = logregcv.score(x_test, y_test)\n",
        "print('The train score is {} and the test score is {}'.format(train_score, test_score))"
      ],
      "execution_count": 0,
      "outputs": [
        {
          "output_type": "stream",
          "text": [
            "/usr/local/lib/python3.6/dist-packages/sklearn/linear_model/logistic.py:469: FutureWarning: Default multi_class will be changed to 'auto' in 0.22. Specify the multi_class option to silence this warning.\n",
            "  \"this warning.\", FutureWarning)\n",
            "/usr/local/lib/python3.6/dist-packages/sklearn/model_selection/_split.py:1978: FutureWarning: The default value of cv will change from 3 to 5 in version 0.22. Specify it explicitly to silence this warning.\n",
            "  warnings.warn(CV_WARNING, FutureWarning)\n",
            "/usr/local/lib/python3.6/dist-packages/sklearn/linear_model/sag.py:337: ConvergenceWarning: The max_iter was reached which means the coef_ did not converge\n",
            "  \"the coef_ did not converge\", ConvergenceWarning)\n",
            "/usr/local/lib/python3.6/dist-packages/sklearn/linear_model/sag.py:337: ConvergenceWarning: The max_iter was reached which means the coef_ did not converge\n",
            "  \"the coef_ did not converge\", ConvergenceWarning)\n",
            "/usr/local/lib/python3.6/dist-packages/sklearn/linear_model/sag.py:337: ConvergenceWarning: The max_iter was reached which means the coef_ did not converge\n",
            "  \"the coef_ did not converge\", ConvergenceWarning)\n",
            "/usr/local/lib/python3.6/dist-packages/sklearn/linear_model/sag.py:337: ConvergenceWarning: The max_iter was reached which means the coef_ did not converge\n",
            "  \"the coef_ did not converge\", ConvergenceWarning)\n",
            "/usr/local/lib/python3.6/dist-packages/sklearn/linear_model/sag.py:337: ConvergenceWarning: The max_iter was reached which means the coef_ did not converge\n",
            "  \"the coef_ did not converge\", ConvergenceWarning)\n",
            "/usr/local/lib/python3.6/dist-packages/sklearn/linear_model/sag.py:337: ConvergenceWarning: The max_iter was reached which means the coef_ did not converge\n",
            "  \"the coef_ did not converge\", ConvergenceWarning)\n",
            "/usr/local/lib/python3.6/dist-packages/sklearn/linear_model/sag.py:337: ConvergenceWarning: The max_iter was reached which means the coef_ did not converge\n",
            "  \"the coef_ did not converge\", ConvergenceWarning)\n",
            "/usr/local/lib/python3.6/dist-packages/sklearn/linear_model/sag.py:337: ConvergenceWarning: The max_iter was reached which means the coef_ did not converge\n",
            "  \"the coef_ did not converge\", ConvergenceWarning)\n",
            "/usr/local/lib/python3.6/dist-packages/sklearn/linear_model/sag.py:337: ConvergenceWarning: The max_iter was reached which means the coef_ did not converge\n",
            "  \"the coef_ did not converge\", ConvergenceWarning)\n",
            "/usr/local/lib/python3.6/dist-packages/sklearn/linear_model/sag.py:337: ConvergenceWarning: The max_iter was reached which means the coef_ did not converge\n",
            "  \"the coef_ did not converge\", ConvergenceWarning)\n"
          ],
          "name": "stderr"
        },
        {
          "output_type": "stream",
          "text": [
            "The train score is 0.6995864395357474 and the test score is 0.7003503745643941\n"
          ],
          "name": "stdout"
        }
      ]
    },
    {
      "cell_type": "markdown",
      "metadata": {
        "id": "8j15UxkFOsor",
        "colab_type": "text"
      },
      "source": [
        "Model Engineering"
      ]
    },
    {
      "cell_type": "code",
      "metadata": {
        "id": "zHW2_uPEOwcn",
        "colab_type": "code",
        "outputId": "f923636b-69ad-4256-a49b-00e374c438fc",
        "colab": {
          "base_uri": "https://localhost:8080/",
          "height": 680
        }
      },
      "source": [
        "binary.corr().lowest_cost.sort_values()"
      ],
      "execution_count": 0,
      "outputs": [
        {
          "output_type": "execute_result",
          "data": {
            "text/plain": [
              "category_Shared                       -0.337101\n",
              "source_Haymarket Square               -0.118169\n",
              "source_Theatre District               -0.078013\n",
              "source_North End                      -0.075899\n",
              "destination_Haymarket Square          -0.062132\n",
              "source_North Station                  -0.056513\n",
              "price_per_dist_u                      -0.047749\n",
              "destination_Boston University         -0.032027\n",
              "category_XL                           -0.027370\n",
              "category_Regular                      -0.021013\n",
              "destination_North Station             -0.020236\n",
              "source_West End                       -0.017175\n",
              "source_Beacon Hill                    -0.009494\n",
              "destination_Fenway                    -0.005602\n",
              "wind                                  -0.003885\n",
              "pressure                              -0.000849\n",
              "humidity                               0.000992\n",
              "destination_North End                  0.001012\n",
              "rain                                   0.002261\n",
              "clouds                                 0.002804\n",
              "destination_Theatre District           0.003189\n",
              "temp                                   0.003369\n",
              "destination_West End                   0.006241\n",
              "destination_Northeastern University    0.006475\n",
              "source_Financial District              0.011978\n",
              "destination_Back Bay                   0.022072\n",
              "destination_South Station              0.023130\n",
              "destination_Beacon Hill                0.026281\n",
              "destination_Financial District         0.030957\n",
              "source_Boston University               0.041403\n",
              "source_Fenway                          0.056249\n",
              "source_South Station                   0.064241\n",
              "source_Back Bay                        0.078145\n",
              "source_Northeastern University         0.102779\n",
              "category_LuxuryXL                      0.119553\n",
              "price_per_dist_l                       0.161247\n",
              "category_Luxury                        0.266682\n",
              "lowest_cost                            1.000000\n",
              "Name: lowest_cost, dtype: float64"
            ]
          },
          "metadata": {
            "tags": []
          },
          "execution_count": 31
        }
      ]
    },
    {
      "cell_type": "code",
      "metadata": {
        "id": "eHqEpWXa5uEG",
        "colab_type": "code",
        "outputId": "33aef966-e540-4aef-bf6e-d87b7ea690ae",
        "colab": {
          "base_uri": "https://localhost:8080/",
          "height": 34
        }
      },
      "source": [
        "logreg.predict(x_test).sum() "
      ],
      "execution_count": 0,
      "outputs": [
        {
          "output_type": "execute_result",
          "data": {
            "text/plain": [
              "223263.0"
            ]
          },
          "metadata": {
            "tags": []
          },
          "execution_count": 32
        }
      ]
    },
    {
      "cell_type": "code",
      "metadata": {
        "id": "uSaAYrBM65nS",
        "colab_type": "code",
        "colab": {}
      },
      "source": [
        "# logregl1 = LogisticRegression(penalty='l1')\n",
        "# logregl1.fit(x_train, y_train)\n",
        "\n",
        "# # Partition the testing data into features and target\n",
        "# #x_test = df_test.drop(columns=['W','Team','SeasonEnd', 'Playoffs'])\n",
        "# #y_test = df_test.Playoffs\n",
        "\n",
        "# # calculate the score\n",
        "# train_score = logregl1.score(x_train, y_train)\n",
        "# test_score = logregl1.score(x_test, y_test)\n",
        "# print('The train score is {} and the test score is {}'.format(train_score, test_score))\n"
      ],
      "execution_count": 0,
      "outputs": []
    },
    {
      "cell_type": "code",
      "metadata": {
        "id": "PlRJjJht9DP7",
        "colab_type": "code",
        "outputId": "b6c81c86-3f99-4e7a-9e55-1472e6418f68",
        "colab": {
          "base_uri": "https://localhost:8080/",
          "height": 279
        }
      },
      "source": [
        "from sklearn.metrics import confusion_matrix\n",
        "\n",
        "\n",
        "y_pred = logreg.predict(x_test)\n",
        "cfm = confusion_matrix(y_true=y_test, y_pred=y_pred)\n",
        "ax = sns.heatmap(cfm, annot=True)\n",
        "ax.set(xlabel='Predicted', ylabel='Actual');"
      ],
      "execution_count": 0,
      "outputs": [
        {
          "output_type": "display_data",
          "data": {
            "image/png": "[encoded data removed]",
            "text/plain": [
              "<Figure size 432x288 with 2 Axes>"
            ]
          },
          "metadata": {
            "tags": []
          }
        }
      ]
    },
    {
      "cell_type": "code",
      "metadata": {
        "id": "Bq0nLH2H_J0w",
        "colab_type": "code",
        "outputId": "c3859553-317f-4d52-b4e5-6b13f9366115",
        "colab": {
          "base_uri": "https://localhost:8080/",
          "height": 238
        }
      },
      "source": [
        "merged2.groupby(['source','destination']).size()"
      ],
      "execution_count": 0,
      "outputs": [
        {
          "output_type": "execute_result",
          "data": {
            "text/plain": [
              "source    destination            \n",
              "Back Bay  Boston University          23385\n",
              "          Fenway                     20330\n",
              "          Haymarket Square           20750\n",
              "          North End                  25345\n",
              "          Northeastern University    24029\n",
              "                                     ...  \n",
              "West End  Fenway                     24031\n",
              "          Haymarket Square           21041\n",
              "          North End                  21824\n",
              "          Northeastern University    19801\n",
              "          South Station              20406\n",
              "Length: 72, dtype: int64"
            ]
          },
          "metadata": {
            "tags": []
          },
          "execution_count": 34
        }
      ]
    },
    {
      "cell_type": "code",
      "metadata": {
        "id": "-Q8_dS4T_M3X",
        "colab_type": "code",
        "colab": {}
      },
      "source": [
        ""
      ],
      "execution_count": 0,
      "outputs": []
    },
    {
      "cell_type": "code",
      "metadata": {
        "id": "6YCq3GU_Ds0E",
        "colab_type": "code",
        "outputId": "7fa937a4-0e57-43fe-964e-283c0762675e",
        "colab": {
          "base_uri": "https://localhost:8080/",
          "height": 68
        }
      },
      "source": [
        "def fit_and_score_model(mdl, x_train, x_test, y_train, y_test, random_state=0):\n",
        "    \"\"\"\n",
        "    This function will fit and score the input mdl to the x_train and y_train \n",
        "    data, and score the mdl on y_train and y_test. To ensure results are \n",
        "    reproducible we can also set a random state.\n",
        "    \"\"\"\n",
        "  \n",
        "    # Fit an arbitrary model\n",
        "    mdl.fit(x_train, y_train)\n",
        "    \n",
        "    # Calculate the score of the model on training and testing data\n",
        "    train_score = mdl.score(x_train, y_train)\n",
        "    test_score = mdl.score(x_test, y_test)\n",
        "  \n",
        "    # Print scores to terminal\n",
        "    print('the accuracy on the: \\n\\t training data is {}'.format(round(train_score,3)))\n",
        "    print('\\t testing data is {}'.format(round(test_score, 3)))\n",
        "    \n",
        "    return train_score, test_score\n",
        "  \n",
        "# As an example, you can now call the function fit_and_score_model\n",
        "train_score, test_score = fit_and_score_model(cart_model, x_train, x_test, y_train, y_test)"
      ],
      "execution_count": 0,
      "outputs": [
        {
          "output_type": "stream",
          "text": [
            "the accuracy on the: \n",
            "\t training data is 0.8\n",
            "\t testing data is 0.753\n"
          ],
          "name": "stdout"
        }
      ]
    },
    {
      "cell_type": "code",
      "metadata": {
        "id": "T2ZBeKvDCnU3",
        "colab_type": "code",
        "outputId": "cf008ed6-c83f-4851-d818-ee43aec92c7b",
        "colab": {
          "base_uri": "https://localhost:8080/",
          "height": 282
        }
      },
      "source": [
        "from sklearn.ensemble import RandomForestClassifier\n",
        "\n",
        "# Write your code here. \n",
        "\n",
        "# -------------------\n",
        "\n",
        "depths = [2, 3, 4, 5, 6, 7]\n",
        "accuracy = pd.Series(index=depths)\n",
        "\n",
        "for max_depth in depths:\n",
        "\n",
        "    # Initialize the model\n",
        "    rf_baseline_model = RandomForestClassifier(\n",
        "        random_state = 0, \n",
        "        max_depth = max_depth,\n",
        "        n_estimators = 50, max_features = 0.2\n",
        "    )\n",
        "    \n",
        "    # Fit and train model\n",
        "    print('For {} max_depth '.format(max_depth), end='')\n",
        "    train_score, test_score = fit_and_score_model(rf_baseline_model, x_train, x_test, y_train, y_test)\n",
        "    \n",
        "    # Save model performance to dataframe\n",
        "    cheat_scores.loc[max_depth] = test_score\n",
        "    \n",
        "print('\\n***Best model has a score of {:.3f} with a max_depth of {}***'.format(cheat_scores.max(), cheat_scores.idxmax()))"
      ],
      "execution_count": 0,
      "outputs": [
        {
          "output_type": "stream",
          "text": [
            "For 2 max_depth the accuracy on the: \n",
            "\t training data is 0.651\n",
            "\t testing data is 0.649\n"
          ],
          "name": "stdout"
        },
        {
          "output_type": "error",
          "ename": "NameError",
          "evalue": "ignored",
          "traceback": [
            "\u001b[0;31m---------------------------------------------------------------------------\u001b[0m",
            "\u001b[0;31mNameError\u001b[0m                                 Traceback (most recent call last)",
            "\u001b[0;32m<ipython-input-36-ba3705214f86>\u001b[0m in \u001b[0;36m<module>\u001b[0;34m()\u001b[0m\n\u001b[1;32m     22\u001b[0m \u001b[0;34m\u001b[0m\u001b[0m\n\u001b[1;32m     23\u001b[0m     \u001b[0;31m# Save model performance to dataframe\u001b[0m\u001b[0;34m\u001b[0m\u001b[0;34m\u001b[0m\u001b[0;34m\u001b[0m\u001b[0m\n\u001b[0;32m---> 24\u001b[0;31m     \u001b[0mcheat_scores\u001b[0m\u001b[0;34m.\u001b[0m\u001b[0mloc\u001b[0m\u001b[0;34m[\u001b[0m\u001b[0mmax_depth\u001b[0m\u001b[0;34m]\u001b[0m \u001b[0;34m=\u001b[0m \u001b[0mtest_score\u001b[0m\u001b[0;34m\u001b[0m\u001b[0;34m\u001b[0m\u001b[0m\n\u001b[0m\u001b[1;32m     25\u001b[0m \u001b[0;34m\u001b[0m\u001b[0m\n\u001b[1;32m     26\u001b[0m \u001b[0mprint\u001b[0m\u001b[0;34m(\u001b[0m\u001b[0;34m'\\n***Best model has a score of {:.3f} with a max_depth of {}***'\u001b[0m\u001b[0;34m.\u001b[0m\u001b[0mformat\u001b[0m\u001b[0;34m(\u001b[0m\u001b[0mcheat_scores\u001b[0m\u001b[0;34m.\u001b[0m\u001b[0mmax\u001b[0m\u001b[0;34m(\u001b[0m\u001b[0;34m)\u001b[0m\u001b[0;34m,\u001b[0m \u001b[0mcheat_scores\u001b[0m\u001b[0;34m.\u001b[0m\u001b[0midxmax\u001b[0m\u001b[0;34m(\u001b[0m\u001b[0;34m)\u001b[0m\u001b[0;34m)\u001b[0m\u001b[0;34m)\u001b[0m\u001b[0;34m\u001b[0m\u001b[0;34m\u001b[0m\u001b[0m\n",
            "\u001b[0;31mNameError\u001b[0m: name 'cheat_scores' is not defined"
          ]
        }
      ]
    },
    {
      "cell_type": "markdown",
      "metadata": {
        "id": "emLk5PuMG8xt",
        "colab_type": "text"
      },
      "source": [
        "### Cross Validation "
      ]
    },
    {
      "cell_type": "code",
      "metadata": {
        "id": "Uj-m8wndHICF",
        "colab_type": "code",
        "colab": {}
      },
      "source": [
        "from sklearn.model_selection import cross_validate\n",
        "\n",
        "# Initailize cross validation score DataFrame\n",
        "depth_lb = 1\n",
        "depth_ub = 50\n",
        "cv_scores = pd.Series(index=np.arange(depth_lb, depth_ub))\n",
        "\n",
        "for max_depth in range(depth_lb, depth_ub):\n",
        "  \n",
        "  # Initialize the model\n",
        "  rf_cv1_model = RandomForestClassifier(random_state = 0, max_depth = max_depth,\n",
        "                          n_estimators = 50, max_features = 0.2)\n",
        "\n",
        "  # Run cross validation to get measure of out-of-sample error\n",
        "  example_cv_results = cross_validate(rf_cv1_model, x_train, y_train, cv=5)\n",
        "  \n",
        "  # Record the average out-of-sample error\n",
        "  cv_scores.loc[max_depth] = example_cv_results['test_score'].mean()"
      ],
      "execution_count": 0,
      "outputs": []
    },
    {
      "cell_type": "markdown",
      "metadata": {
        "id": "0Gw99CgsmOsu",
        "colab_type": "text"
      },
      "source": [
        "# Linear Regression"
      ]
    },
    {
      "cell_type": "code",
      "metadata": {
        "id": "q3mNmf1tEvVS",
        "colab_type": "code",
        "colab": {}
      },
      "source": [
        "lyft = df[df.cab_type == 'Lyft']\n",
        "lyft = lyft.drop(['cab_type', 'name','time_stamp'], axis=1)\n",
        "lyft = pd.merge(lyft, weather, left_on=['date', 'hour_of_day', 'source'], right_on = ['date', 'hour_of_day', 'location'])\n",
        "lyft = lyft.drop(['day_of_week_x', 'day_of_week_y', 'location', 'time_stamp','date'], axis=1)\n",
        "lyft = pd.get_dummies(lyft, columns=['source','destination', 'category'])\n",
        "\n",
        "uber = df[df.cab_type == 'Uber']\n",
        "uber = uber.drop(['cab_type', 'name','time_stamp'], axis=1)\n",
        "uber = pd.merge(uber, weather, left_on=['date', 'hour_of_day', 'source'], right_on = ['date', 'hour_of_day', 'location'])\n",
        "uber = uber.drop(['day_of_week_x', 'day_of_week_y', 'location', 'time_stamp','date'], axis=1)\n",
        "uber = pd.get_dummies(uber, columns=['source','destination', 'category'])\n"
      ],
      "execution_count": 0,
      "outputs": []
    },
    {
      "cell_type": "code",
      "metadata": {
        "id": "Y2KDkm23m7c_",
        "colab_type": "code",
        "outputId": "069d3821-c63b-456c-edb0-1547795d253e",
        "colab": {
          "base_uri": "https://localhost:8080/",
          "height": 326
        }
      },
      "source": [
        "lyft.head()"
      ],
      "execution_count": 0,
      "outputs": [
        {
          "output_type": "execute_result",
          "data": {
            "text/html": [
              "<div>\n",
              "<style scoped>\n",
              "    .dataframe tbody tr th:only-of-type {\n",
              "        vertical-align: middle;\n",
              "    }\n",
              "\n",
              "    .dataframe tbody tr th {\n",
              "        vertical-align: top;\n",
              "    }\n",
              "\n",
              "    .dataframe thead th {\n",
              "        text-align: right;\n",
              "    }\n",
              "</style>\n",
              "<table border=\"1\" class=\"dataframe\">\n",
              "  <thead>\n",
              "    <tr style=\"text-align: right;\">\n",
              "      <th></th>\n",
              "      <th>distance</th>\n",
              "      <th>price</th>\n",
              "      <th>hour_of_day</th>\n",
              "      <th>date</th>\n",
              "      <th>temp</th>\n",
              "      <th>clouds</th>\n",
              "      <th>pressure</th>\n",
              "      <th>rain</th>\n",
              "      <th>humidity</th>\n",
              "      <th>wind</th>\n",
              "      <th>source_Back Bay</th>\n",
              "      <th>source_Beacon Hill</th>\n",
              "      <th>source_Boston University</th>\n",
              "      <th>source_Fenway</th>\n",
              "      <th>source_Financial District</th>\n",
              "      <th>source_Haymarket Square</th>\n",
              "      <th>source_North End</th>\n",
              "      <th>source_North Station</th>\n",
              "      <th>source_Northeastern University</th>\n",
              "      <th>source_South Station</th>\n",
              "      <th>source_Theatre District</th>\n",
              "      <th>source_West End</th>\n",
              "      <th>destination_Back Bay</th>\n",
              "      <th>destination_Beacon Hill</th>\n",
              "      <th>destination_Boston University</th>\n",
              "      <th>destination_Fenway</th>\n",
              "      <th>destination_Financial District</th>\n",
              "      <th>destination_Haymarket Square</th>\n",
              "      <th>destination_North End</th>\n",
              "      <th>destination_North Station</th>\n",
              "      <th>destination_Northeastern University</th>\n",
              "      <th>destination_South Station</th>\n",
              "      <th>destination_Theatre District</th>\n",
              "      <th>destination_West End</th>\n",
              "      <th>category_Luxury</th>\n",
              "      <th>category_LuxuryXL</th>\n",
              "      <th>category_Regular</th>\n",
              "      <th>category_Shared</th>\n",
              "      <th>category_XL</th>\n",
              "    </tr>\n",
              "  </thead>\n",
              "  <tbody>\n",
              "    <tr>\n",
              "      <th>0</th>\n",
              "      <td>0.44</td>\n",
              "      <td>5.0</td>\n",
              "      <td>09</td>\n",
              "      <td>2018-12-16</td>\n",
              "      <td>38.46</td>\n",
              "      <td>0.29</td>\n",
              "      <td>1022.25</td>\n",
              "      <td>0.0</td>\n",
              "      <td>0.76</td>\n",
              "      <td>7.68</td>\n",
              "      <td>0</td>\n",
              "      <td>0</td>\n",
              "      <td>0</td>\n",
              "      <td>0</td>\n",
              "      <td>0</td>\n",
              "      <td>1</td>\n",
              "      <td>0</td>\n",
              "      <td>0</td>\n",
              "      <td>0</td>\n",
              "      <td>0</td>\n",
              "      <td>0</td>\n",
              "      <td>0</td>\n",
              "      <td>0</td>\n",
              "      <td>0</td>\n",
              "      <td>0</td>\n",
              "      <td>0</td>\n",
              "      <td>0</td>\n",
              "      <td>0</td>\n",
              "      <td>0</td>\n",
              "      <td>1</td>\n",
              "      <td>0</td>\n",
              "      <td>0</td>\n",
              "      <td>0</td>\n",
              "      <td>0</td>\n",
              "      <td>0</td>\n",
              "      <td>0</td>\n",
              "      <td>0</td>\n",
              "      <td>1</td>\n",
              "      <td>0</td>\n",
              "    </tr>\n",
              "    <tr>\n",
              "      <th>1</th>\n",
              "      <td>1.33</td>\n",
              "      <td>7.0</td>\n",
              "      <td>09</td>\n",
              "      <td>2018-12-16</td>\n",
              "      <td>38.46</td>\n",
              "      <td>0.29</td>\n",
              "      <td>1022.25</td>\n",
              "      <td>0.0</td>\n",
              "      <td>0.76</td>\n",
              "      <td>7.68</td>\n",
              "      <td>0</td>\n",
              "      <td>0</td>\n",
              "      <td>0</td>\n",
              "      <td>0</td>\n",
              "      <td>0</td>\n",
              "      <td>1</td>\n",
              "      <td>0</td>\n",
              "      <td>0</td>\n",
              "      <td>0</td>\n",
              "      <td>0</td>\n",
              "      <td>0</td>\n",
              "      <td>0</td>\n",
              "      <td>0</td>\n",
              "      <td>1</td>\n",
              "      <td>0</td>\n",
              "      <td>0</td>\n",
              "      <td>0</td>\n",
              "      <td>0</td>\n",
              "      <td>0</td>\n",
              "      <td>0</td>\n",
              "      <td>0</td>\n",
              "      <td>0</td>\n",
              "      <td>0</td>\n",
              "      <td>0</td>\n",
              "      <td>0</td>\n",
              "      <td>0</td>\n",
              "      <td>1</td>\n",
              "      <td>0</td>\n",
              "      <td>0</td>\n",
              "    </tr>\n",
              "    <tr>\n",
              "      <th>2</th>\n",
              "      <td>0.53</td>\n",
              "      <td>27.5</td>\n",
              "      <td>09</td>\n",
              "      <td>2018-12-16</td>\n",
              "      <td>38.46</td>\n",
              "      <td>0.29</td>\n",
              "      <td>1022.25</td>\n",
              "      <td>0.0</td>\n",
              "      <td>0.76</td>\n",
              "      <td>7.68</td>\n",
              "      <td>0</td>\n",
              "      <td>0</td>\n",
              "      <td>0</td>\n",
              "      <td>0</td>\n",
              "      <td>0</td>\n",
              "      <td>1</td>\n",
              "      <td>0</td>\n",
              "      <td>0</td>\n",
              "      <td>0</td>\n",
              "      <td>0</td>\n",
              "      <td>0</td>\n",
              "      <td>0</td>\n",
              "      <td>0</td>\n",
              "      <td>0</td>\n",
              "      <td>0</td>\n",
              "      <td>0</td>\n",
              "      <td>0</td>\n",
              "      <td>0</td>\n",
              "      <td>0</td>\n",
              "      <td>1</td>\n",
              "      <td>0</td>\n",
              "      <td>0</td>\n",
              "      <td>0</td>\n",
              "      <td>0</td>\n",
              "      <td>0</td>\n",
              "      <td>1</td>\n",
              "      <td>0</td>\n",
              "      <td>0</td>\n",
              "      <td>0</td>\n",
              "    </tr>\n",
              "    <tr>\n",
              "      <th>3</th>\n",
              "      <td>2.36</td>\n",
              "      <td>7.0</td>\n",
              "      <td>09</td>\n",
              "      <td>2018-12-16</td>\n",
              "      <td>38.46</td>\n",
              "      <td>0.29</td>\n",
              "      <td>1022.25</td>\n",
              "      <td>0.0</td>\n",
              "      <td>0.76</td>\n",
              "      <td>7.68</td>\n",
              "      <td>0</td>\n",
              "      <td>0</td>\n",
              "      <td>0</td>\n",
              "      <td>0</td>\n",
              "      <td>0</td>\n",
              "      <td>1</td>\n",
              "      <td>0</td>\n",
              "      <td>0</td>\n",
              "      <td>0</td>\n",
              "      <td>0</td>\n",
              "      <td>0</td>\n",
              "      <td>0</td>\n",
              "      <td>1</td>\n",
              "      <td>0</td>\n",
              "      <td>0</td>\n",
              "      <td>0</td>\n",
              "      <td>0</td>\n",
              "      <td>0</td>\n",
              "      <td>0</td>\n",
              "      <td>0</td>\n",
              "      <td>0</td>\n",
              "      <td>0</td>\n",
              "      <td>0</td>\n",
              "      <td>0</td>\n",
              "      <td>0</td>\n",
              "      <td>0</td>\n",
              "      <td>0</td>\n",
              "      <td>1</td>\n",
              "      <td>0</td>\n",
              "    </tr>\n",
              "    <tr>\n",
              "      <th>4</th>\n",
              "      <td>1.22</td>\n",
              "      <td>27.5</td>\n",
              "      <td>09</td>\n",
              "      <td>2018-12-16</td>\n",
              "      <td>38.46</td>\n",
              "      <td>0.29</td>\n",
              "      <td>1022.25</td>\n",
              "      <td>0.0</td>\n",
              "      <td>0.76</td>\n",
              "      <td>7.68</td>\n",
              "      <td>0</td>\n",
              "      <td>0</td>\n",
              "      <td>0</td>\n",
              "      <td>0</td>\n",
              "      <td>0</td>\n",
              "      <td>1</td>\n",
              "      <td>0</td>\n",
              "      <td>0</td>\n",
              "      <td>0</td>\n",
              "      <td>0</td>\n",
              "      <td>0</td>\n",
              "      <td>0</td>\n",
              "      <td>0</td>\n",
              "      <td>0</td>\n",
              "      <td>0</td>\n",
              "      <td>0</td>\n",
              "      <td>0</td>\n",
              "      <td>0</td>\n",
              "      <td>0</td>\n",
              "      <td>0</td>\n",
              "      <td>0</td>\n",
              "      <td>0</td>\n",
              "      <td>1</td>\n",
              "      <td>0</td>\n",
              "      <td>0</td>\n",
              "      <td>1</td>\n",
              "      <td>0</td>\n",
              "      <td>0</td>\n",
              "      <td>0</td>\n",
              "    </tr>\n",
              "  </tbody>\n",
              "</table>\n",
              "</div>"
            ],
            "text/plain": [
              "   distance  price hour_of_day  ... category_Regular  category_Shared  category_XL\n",
              "0      0.44    5.0          09  ...                0                1            0\n",
              "1      1.33    7.0          09  ...                1                0            0\n",
              "2      0.53   27.5          09  ...                0                0            0\n",
              "3      2.36    7.0          09  ...                0                1            0\n",
              "4      1.22   27.5          09  ...                0                0            0\n",
              "\n",
              "[5 rows x 39 columns]"
            ]
          },
          "metadata": {
            "tags": []
          },
          "execution_count": 47
        }
      ]
    },
    {
      "cell_type": "code",
      "metadata": {
        "id": "0N2EvJsMFiZL",
        "colab_type": "code",
        "outputId": "07e2d52d-adb8-4f10-bc0b-a968e28e895a",
        "colab": {
          "base_uri": "https://localhost:8080/",
          "height": 88
        }
      },
      "source": [
        "from sklearn.linear_model import LinearRegression, LogisticRegression, LassoCV, RidgeCV\n",
        "\n",
        "X_uber = uber.drop(['price'], axis=1)\n",
        "y_uber = uber['price']\n",
        "X_train_uber, X_test_uber, y_train_uber, y_test_uber = train_test_split(X_uber, y_uber, test_size=0.33, random_state=42)\n",
        "\n",
        "lasso_uber = LassoCV()\n",
        "lasso_uber.fit(X_train_uber, y_train_uber)\n",
        "\n",
        "train_score_uber = lasso_uber.score(X_train_uber, y_train_uber)\n",
        "test_score_uber = lasso_uber.score(X_test_uber, y_test_uber)\n",
        "print('The train score is {} and the test score is {}'.format(train_score_uber, test_score_uber))"
      ],
      "execution_count": 0,
      "outputs": [
        {
          "output_type": "stream",
          "text": [
            "/usr/local/lib/python3.6/dist-packages/sklearn/model_selection/_split.py:1978: FutureWarning: The default value of cv will change from 3 to 5 in version 0.22. Specify it explicitly to silence this warning.\n",
            "  warnings.warn(CV_WARNING, FutureWarning)\n"
          ],
          "name": "stderr"
        },
        {
          "output_type": "stream",
          "text": [
            "The train score is 0.9218039767880045 and the test score is 0.9215659433737005\n"
          ],
          "name": "stdout"
        }
      ]
    },
    {
      "cell_type": "code",
      "metadata": {
        "id": "wrnI_4aMs2oV",
        "colab_type": "code",
        "outputId": "ad5f931b-ddfa-402a-b860-8c8700846103",
        "colab": {
          "base_uri": "https://localhost:8080/",
          "height": 88
        }
      },
      "source": [
        "X_lyft = lyft.drop(['price'], axis=1)\n",
        "y_lyft = lyft['price']\n",
        "X_train_lyft, X_test_lyft, y_train_lyft, y_test_lyft = train_test_split(X_lyft, y_lyft, test_size=0.33, random_state=42)\n",
        "\n",
        "lasso_lyft = LassoCV()\n",
        "lasso_lyft.fit(X_train_lyft, y_train_lyft)\n",
        "\n",
        "train_score_lyft = lasso_lyft.score(X_train_lyft, y_train_lyft)\n",
        "test_score_lyft = lasso_lyft.score(X_test_lyft, y_test_lyft)\n",
        "print('The train score is {} and the test score is {}'.format(train_score_lyft, test_score_lyft))"
      ],
      "execution_count": 0,
      "outputs": [
        {
          "output_type": "stream",
          "text": [
            "/usr/local/lib/python3.6/dist-packages/sklearn/model_selection/_split.py:1978: FutureWarning: The default value of cv will change from 3 to 5 in version 0.22. Specify it explicitly to silence this warning.\n",
            "  warnings.warn(CV_WARNING, FutureWarning)\n"
          ],
          "name": "stderr"
        },
        {
          "output_type": "stream",
          "text": [
            "The train score is 0.8900376802117456 and the test score is 0.8873546339391045\n"
          ],
          "name": "stdout"
        }
      ]
    },
    {
      "cell_type": "code",
      "metadata": {
        "id": "V1S6Nl8qtQC7",
        "colab_type": "code",
        "colab": {}
      },
      "source": [
        "uber_pd = uber.copy()\n",
        "uber_pd['price_dist'] = uber_pd.price/uber_pd.distance \n",
        "uber_pd = uber_pd.drop(columns=['price','distance'],axis=1)"
      ],
      "execution_count": 0,
      "outputs": []
    },
    {
      "cell_type": "code",
      "metadata": {
        "id": "BU81xDs2xeyK",
        "colab_type": "code",
        "outputId": "ea63be01-22a3-4931-b1d2-8634e6d586de",
        "colab": {
          "base_uri": "https://localhost:8080/",
          "height": 88
        }
      },
      "source": [
        "X_uber_pd = uber_pd.drop(['price_dist'], axis=1)\n",
        "y_uber_pd = uber_pd['price_dist']\n",
        "X_train_uber_pd, X_test_uber_pd, y_train_uber_pd, y_test_uber_pd = train_test_split(X_uber_pd, y_uber_pd, test_size=0.33, random_state=42)\n",
        "\n",
        "lasso_uber_pd = LassoCV()\n",
        "lasso_uber_pd.fit(X_train_uber_pd, y_train_uber_pd)\n",
        "\n",
        "train_score_uber_pd = lasso_uber_pd.score(X_train_uber_pd, y_train_uber_pd)\n",
        "test_score_uber_pd = lasso_uber_pd.score(X_test_uber_pd, y_test_uber_pd)\n",
        "print('The train score is {} and the test score is {}'.format(train_score_uber_pd, test_score_uber_pd))"
      ],
      "execution_count": 0,
      "outputs": [
        {
          "output_type": "stream",
          "text": [
            "/usr/local/lib/python3.6/dist-packages/sklearn/model_selection/_split.py:1978: FutureWarning: The default value of cv will change from 3 to 5 in version 0.22. Specify it explicitly to silence this warning.\n",
            "  warnings.warn(CV_WARNING, FutureWarning)\n"
          ],
          "name": "stderr"
        },
        {
          "output_type": "stream",
          "text": [
            "The train score is 0.10380307794709442 and the test score is 0.09888907821966564\n"
          ],
          "name": "stdout"
        }
      ]
    },
    {
      "cell_type": "code",
      "metadata": {
        "id": "2H6cHeNNrWvv",
        "colab_type": "code",
        "outputId": "7c97fdd9-3a09-4d54-f642-55b2204cfa8f",
        "colab": {
          "base_uri": "https://localhost:8080/",
          "height": 241
        }
      },
      "source": [
        "uber_pd.head()"
      ],
      "execution_count": 0,
      "outputs": [
        {
          "output_type": "execute_result",
          "data": {
            "text/html": [
              "<div>\n",
              "<style scoped>\n",
              "    .dataframe tbody tr th:only-of-type {\n",
              "        vertical-align: middle;\n",
              "    }\n",
              "\n",
              "    .dataframe tbody tr th {\n",
              "        vertical-align: top;\n",
              "    }\n",
              "\n",
              "    .dataframe thead th {\n",
              "        text-align: right;\n",
              "    }\n",
              "</style>\n",
              "<table border=\"1\" class=\"dataframe\">\n",
              "  <thead>\n",
              "    <tr style=\"text-align: right;\">\n",
              "      <th></th>\n",
              "      <th>hour_of_day</th>\n",
              "      <th>temp</th>\n",
              "      <th>clouds</th>\n",
              "      <th>pressure</th>\n",
              "      <th>rain</th>\n",
              "      <th>humidity</th>\n",
              "      <th>wind</th>\n",
              "      <th>source_Back Bay</th>\n",
              "      <th>source_Beacon Hill</th>\n",
              "      <th>source_Boston University</th>\n",
              "      <th>source_Fenway</th>\n",
              "      <th>source_Financial District</th>\n",
              "      <th>source_Haymarket Square</th>\n",
              "      <th>source_North End</th>\n",
              "      <th>source_North Station</th>\n",
              "      <th>source_Northeastern University</th>\n",
              "      <th>source_South Station</th>\n",
              "      <th>source_Theatre District</th>\n",
              "      <th>source_West End</th>\n",
              "      <th>destination_Back Bay</th>\n",
              "      <th>destination_Beacon Hill</th>\n",
              "      <th>destination_Boston University</th>\n",
              "      <th>destination_Fenway</th>\n",
              "      <th>destination_Financial District</th>\n",
              "      <th>destination_Haymarket Square</th>\n",
              "      <th>destination_North End</th>\n",
              "      <th>destination_North Station</th>\n",
              "      <th>destination_Northeastern University</th>\n",
              "      <th>destination_South Station</th>\n",
              "      <th>destination_Theatre District</th>\n",
              "      <th>destination_West End</th>\n",
              "      <th>category_Luxury</th>\n",
              "      <th>category_LuxuryXL</th>\n",
              "      <th>category_Regular</th>\n",
              "      <th>category_Shared</th>\n",
              "      <th>category_XL</th>\n",
              "      <th>price_dist</th>\n",
              "    </tr>\n",
              "  </thead>\n",
              "  <tbody>\n",
              "    <tr>\n",
              "      <th>0</th>\n",
              "      <td>22</td>\n",
              "      <td>38.65</td>\n",
              "      <td>0.96</td>\n",
              "      <td>1017.23</td>\n",
              "      <td>0.0</td>\n",
              "      <td>0.65</td>\n",
              "      <td>3.13</td>\n",
              "      <td>0</td>\n",
              "      <td>0</td>\n",
              "      <td>0</td>\n",
              "      <td>0</td>\n",
              "      <td>0</td>\n",
              "      <td>0</td>\n",
              "      <td>1</td>\n",
              "      <td>0</td>\n",
              "      <td>0</td>\n",
              "      <td>0</td>\n",
              "      <td>0</td>\n",
              "      <td>0</td>\n",
              "      <td>0</td>\n",
              "      <td>0</td>\n",
              "      <td>0</td>\n",
              "      <td>0</td>\n",
              "      <td>0</td>\n",
              "      <td>0</td>\n",
              "      <td>0</td>\n",
              "      <td>0</td>\n",
              "      <td>0</td>\n",
              "      <td>0</td>\n",
              "      <td>0</td>\n",
              "      <td>1</td>\n",
              "      <td>0</td>\n",
              "      <td>0</td>\n",
              "      <td>0</td>\n",
              "      <td>0</td>\n",
              "      <td>1</td>\n",
              "      <td>10.810811</td>\n",
              "    </tr>\n",
              "    <tr>\n",
              "      <th>1</th>\n",
              "      <td>22</td>\n",
              "      <td>38.65</td>\n",
              "      <td>0.96</td>\n",
              "      <td>1017.23</td>\n",
              "      <td>0.0</td>\n",
              "      <td>0.65</td>\n",
              "      <td>3.13</td>\n",
              "      <td>0</td>\n",
              "      <td>0</td>\n",
              "      <td>0</td>\n",
              "      <td>0</td>\n",
              "      <td>0</td>\n",
              "      <td>0</td>\n",
              "      <td>1</td>\n",
              "      <td>0</td>\n",
              "      <td>0</td>\n",
              "      <td>0</td>\n",
              "      <td>0</td>\n",
              "      <td>0</td>\n",
              "      <td>0</td>\n",
              "      <td>0</td>\n",
              "      <td>0</td>\n",
              "      <td>0</td>\n",
              "      <td>1</td>\n",
              "      <td>0</td>\n",
              "      <td>0</td>\n",
              "      <td>0</td>\n",
              "      <td>0</td>\n",
              "      <td>0</td>\n",
              "      <td>0</td>\n",
              "      <td>0</td>\n",
              "      <td>0</td>\n",
              "      <td>0</td>\n",
              "      <td>0</td>\n",
              "      <td>1</td>\n",
              "      <td>0</td>\n",
              "      <td>5.288462</td>\n",
              "    </tr>\n",
              "    <tr>\n",
              "      <th>2</th>\n",
              "      <td>22</td>\n",
              "      <td>38.65</td>\n",
              "      <td>0.96</td>\n",
              "      <td>1017.23</td>\n",
              "      <td>0.0</td>\n",
              "      <td>0.65</td>\n",
              "      <td>3.13</td>\n",
              "      <td>0</td>\n",
              "      <td>0</td>\n",
              "      <td>0</td>\n",
              "      <td>0</td>\n",
              "      <td>0</td>\n",
              "      <td>0</td>\n",
              "      <td>1</td>\n",
              "      <td>0</td>\n",
              "      <td>0</td>\n",
              "      <td>0</td>\n",
              "      <td>0</td>\n",
              "      <td>0</td>\n",
              "      <td>0</td>\n",
              "      <td>0</td>\n",
              "      <td>0</td>\n",
              "      <td>0</td>\n",
              "      <td>1</td>\n",
              "      <td>0</td>\n",
              "      <td>0</td>\n",
              "      <td>0</td>\n",
              "      <td>0</td>\n",
              "      <td>0</td>\n",
              "      <td>0</td>\n",
              "      <td>0</td>\n",
              "      <td>0</td>\n",
              "      <td>1</td>\n",
              "      <td>0</td>\n",
              "      <td>0</td>\n",
              "      <td>0</td>\n",
              "      <td>26.442308</td>\n",
              "    </tr>\n",
              "    <tr>\n",
              "      <th>3</th>\n",
              "      <td>22</td>\n",
              "      <td>38.65</td>\n",
              "      <td>0.96</td>\n",
              "      <td>1017.23</td>\n",
              "      <td>0.0</td>\n",
              "      <td>0.65</td>\n",
              "      <td>3.13</td>\n",
              "      <td>0</td>\n",
              "      <td>0</td>\n",
              "      <td>0</td>\n",
              "      <td>0</td>\n",
              "      <td>0</td>\n",
              "      <td>0</td>\n",
              "      <td>1</td>\n",
              "      <td>0</td>\n",
              "      <td>0</td>\n",
              "      <td>0</td>\n",
              "      <td>0</td>\n",
              "      <td>0</td>\n",
              "      <td>0</td>\n",
              "      <td>1</td>\n",
              "      <td>0</td>\n",
              "      <td>0</td>\n",
              "      <td>0</td>\n",
              "      <td>0</td>\n",
              "      <td>0</td>\n",
              "      <td>0</td>\n",
              "      <td>0</td>\n",
              "      <td>0</td>\n",
              "      <td>0</td>\n",
              "      <td>0</td>\n",
              "      <td>0</td>\n",
              "      <td>0</td>\n",
              "      <td>1</td>\n",
              "      <td>0</td>\n",
              "      <td>0</td>\n",
              "      <td>5.430712</td>\n",
              "    </tr>\n",
              "    <tr>\n",
              "      <th>4</th>\n",
              "      <td>22</td>\n",
              "      <td>38.65</td>\n",
              "      <td>0.96</td>\n",
              "      <td>1017.23</td>\n",
              "      <td>0.0</td>\n",
              "      <td>0.65</td>\n",
              "      <td>3.13</td>\n",
              "      <td>0</td>\n",
              "      <td>0</td>\n",
              "      <td>0</td>\n",
              "      <td>0</td>\n",
              "      <td>0</td>\n",
              "      <td>0</td>\n",
              "      <td>1</td>\n",
              "      <td>0</td>\n",
              "      <td>0</td>\n",
              "      <td>0</td>\n",
              "      <td>0</td>\n",
              "      <td>0</td>\n",
              "      <td>0</td>\n",
              "      <td>0</td>\n",
              "      <td>0</td>\n",
              "      <td>0</td>\n",
              "      <td>1</td>\n",
              "      <td>0</td>\n",
              "      <td>0</td>\n",
              "      <td>0</td>\n",
              "      <td>0</td>\n",
              "      <td>0</td>\n",
              "      <td>0</td>\n",
              "      <td>0</td>\n",
              "      <td>0</td>\n",
              "      <td>0</td>\n",
              "      <td>0</td>\n",
              "      <td>1</td>\n",
              "      <td>0</td>\n",
              "      <td>7.009346</td>\n",
              "    </tr>\n",
              "  </tbody>\n",
              "</table>\n",
              "</div>"
            ],
            "text/plain": [
              "  hour_of_day   temp  clouds  ...  category_Shared  category_XL  price_dist\n",
              "0          22  38.65    0.96  ...                0            1   10.810811\n",
              "1          22  38.65    0.96  ...                1            0    5.288462\n",
              "2          22  38.65    0.96  ...                0            0   26.442308\n",
              "3          22  38.65    0.96  ...                0            0    5.430712\n",
              "4          22  38.65    0.96  ...                1            0    7.009346\n",
              "\n",
              "[5 rows x 37 columns]"
            ]
          },
          "metadata": {
            "tags": []
          },
          "execution_count": 17
        }
      ]
    },
    {
      "cell_type": "code",
      "metadata": {
        "id": "GDMnczVMrldV",
        "colab_type": "code",
        "outputId": "0b6c52fb-7121-4738-8d57-0c9c4d3a7bc3",
        "colab": {
          "base_uri": "https://localhost:8080/",
          "height": 119
        }
      },
      "source": [
        "y_uber.head()"
      ],
      "execution_count": 0,
      "outputs": [
        {
          "output_type": "execute_result",
          "data": {
            "text/plain": [
              "0    12.0\n",
              "1     5.5\n",
              "2    27.5\n",
              "3    14.5\n",
              "4     7.5\n",
              "Name: price, dtype: float64"
            ]
          },
          "metadata": {
            "tags": []
          },
          "execution_count": 56
        }
      ]
    },
    {
      "cell_type": "code",
      "metadata": {
        "id": "KYzmSlEgGB5h",
        "colab_type": "code",
        "colab": {}
      },
      "source": [
        "\n",
        "X_lyft = lyft.drop(['price'], axis=1)\n",
        "y_lyft = lyft['price']\n",
        "X_train_lyft, X_test_lyft, y_train_lyft, y_test_lyft = train_test_split(X_lyft, y_lyft, test_size=0.33, random_state=42)\n",
        "linreg_lyft = LinearRegression()\n",
        "linreg_lyft.fit(X_train_lyft, y_train_lyft)\n",
        "prediction_lyft = linreg_lyft.predict(X_test_lyft)\n",
        "lyft_coef = pd.Series(prediction_lyft)"
      ],
      "execution_count": 0,
      "outputs": []
    },
    {
      "cell_type": "code",
      "metadata": {
        "id": "vVc8rsfomOBW",
        "colab_type": "code",
        "colab": {}
      },
      "source": [
        "X_train_lyft, X_test_lyft, y_train_lyft, y_test_lyft = train_test_split(X_lyft, y_lyft, test_size=0.33, random_state=42)\n",
        "# Fit the model\n",
        "\n",
        "\n",
        "# Partition the testing data into features and target\n",
        "X_test_uber = df_test.drop(columns=['W','Team','SeasonEnd'])\n",
        "y_test_uber = df_test.W\n",
        "\n"
      ],
      "execution_count": 0,
      "outputs": []
    }
  ]
}